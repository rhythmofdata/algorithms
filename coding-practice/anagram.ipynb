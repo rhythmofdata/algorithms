{
 "cells": [
  {
   "cell_type": "markdown",
   "id": "61ac7b83",
   "metadata": {},
   "source": [
    "# Anagrams"
   ]
  },
  {
   "cell_type": "markdown",
   "id": "53e66307",
   "metadata": {},
   "source": [
    "An anagram is a word or phrase formed by rearranging the letters of another word. For example we can rearrange 'leap' into 'plea' or 'silent' into 'listen'.  The runtime complexity of the function below is O(nlogn)."
   ]
  },
  {
   "cell_type": "code",
   "execution_count": null,
   "id": "63c33820",
   "metadata": {},
   "outputs": [],
   "source": []
  },
  {
   "cell_type": "code",
   "execution_count": 34,
   "id": "f85bcf1d",
   "metadata": {},
   "outputs": [],
   "source": [
    "def isAnagram(string1,string2):\n",
    "    if len(string1) <=1000 and len(string2) <= 1000:\n",
    "        if string1.isalnum() and string2.isalnum():\n",
    "            print(\"Both strings are alphanumeric.\")\n",
    "            if len(string1) == len(string2):\n",
    "                list_string1 = list(string1)\n",
    "                list_string2 = list(string2)\n",
    "                s1 = list_string1.sort()\n",
    "                s2 = list_string2.sort()\n",
    "                if s1 == s2:\n",
    "                    print(string1, ' and ', string2, ' are anagrams. ')\n",
    "            else:\n",
    "                print('However, strings are not same length')\n",
    "                return\n",
    "        else:\n",
    "            print(\"One or both inputs not alphanumeric.  Exiting!\")\n",
    "            return\n",
    "    print(\"One or both strings lengths is greater than 1000.\")\n",
    "    return\n",
    "        "
   ]
  },
  {
   "cell_type": "code",
   "execution_count": 35,
   "id": "0a4c081f",
   "metadata": {},
   "outputs": [
    {
     "name": "stdout",
     "output_type": "stream",
     "text": [
      "Both strings are alphanumeric.\n",
      "However, strings are not same length\n"
     ]
    }
   ],
   "source": [
    "isAnagram('silents','listen')"
   ]
  },
  {
   "cell_type": "code",
   "execution_count": 36,
   "id": "f6128968",
   "metadata": {},
   "outputs": [
    {
     "name": "stdout",
     "output_type": "stream",
     "text": [
      "Both strings are alphanumeric.\n",
      "GinandVermouth  and  Hungoverdamnit  are anagrams. \n",
      "One or both strings lengths is greater than 1000.\n"
     ]
    }
   ],
   "source": [
    "isAnagram('GinandVermouth',  'Hungoverdamnit')"
   ]
  },
  {
   "cell_type": "code",
   "execution_count": 37,
   "id": "0b2abd30",
   "metadata": {},
   "outputs": [
    {
     "name": "stdout",
     "output_type": "stream",
     "text": [
      "Both strings are alphanumeric.\n",
      "However, strings are not same length\n"
     ]
    }
   ],
   "source": [
    "isAnagram('GinandVermouth',  'Hungoverdamnlit')"
   ]
  },
  {
   "cell_type": "code",
   "execution_count": 39,
   "id": "24813f34",
   "metadata": {},
   "outputs": [
    {
     "name": "stdout",
     "output_type": "stream",
     "text": [
      "One or both strings lengths is greater than 1000.\n"
     ]
    }
   ],
   "source": [
    "string1 = ''\n",
    "for i in range (1,205):\n",
    "    string1 += 'hello' \n",
    "\n",
    "string2 = 'hello'\n",
    "isAnagram(string1,  string2)"
   ]
  },
  {
   "cell_type": "code",
   "execution_count": null,
   "id": "dc6fbb36",
   "metadata": {},
   "outputs": [],
   "source": []
  }
 ],
 "metadata": {
  "kernelspec": {
   "display_name": "Python 3 (ipykernel)",
   "language": "python",
   "name": "python3"
  },
  "language_info": {
   "codemirror_mode": {
    "name": "ipython",
    "version": 3
   },
   "file_extension": ".py",
   "mimetype": "text/x-python",
   "name": "python",
   "nbconvert_exporter": "python",
   "pygments_lexer": "ipython3",
   "version": "3.10.4"
  }
 },
 "nbformat": 4,
 "nbformat_minor": 5
}
