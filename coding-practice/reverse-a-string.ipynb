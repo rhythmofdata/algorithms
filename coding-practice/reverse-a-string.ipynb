{
 "cells": [
  {
   "cell_type": "markdown",
   "id": "223ed4e7",
   "metadata": {},
   "source": [
    "# Reverse a String"
   ]
  },
  {
   "cell_type": "code",
   "execution_count": 4,
   "id": "0a45f2da",
   "metadata": {},
   "outputs": [],
   "source": [
    "def reverse_(some_string):\n",
    "    if some_string == None:\n",
    "        print(\"No string detected.\")\n",
    "    elif type(some_string) == str:\n",
    "        \n",
    "        string_len = len(some_string)\n",
    "        indexer = string_len - 1\n",
    "        new_string = \"\"\n",
    "        for i in range(0,string_len):\n",
    "            #new_string.append(some_string[indexer-i])\n",
    "            new_string += some_string[indexer-i]\n",
    "        return (new_string)\n",
    "    else:\n",
    "        print(\"You must enter a string\")\n",
    "        #exit()\n",
    "    \n",
    "    \n",
    "    "
   ]
  },
  {
   "cell_type": "code",
   "execution_count": 5,
   "id": "c6514d76",
   "metadata": {},
   "outputs": [
    {
     "name": "stdout",
     "output_type": "stream",
     "text": [
      "niatnuoMraeBgiB\n"
     ]
    }
   ],
   "source": [
    "some_string = \"BigBearMountain\"\n",
    "new_string = reverse_(some_string)\n",
    "\n",
    "print(str(new_string))"
   ]
  },
  {
   "cell_type": "code",
   "execution_count": 8,
   "id": "8d2b73d1",
   "metadata": {},
   "outputs": [
    {
     "name": "stdout",
     "output_type": "stream",
     "text": [
      "56474685574\n"
     ]
    }
   ],
   "source": [
    "some_string = '47558647465'\n",
    "new_string = reverse_(some_string)\n",
    "print(str(new_string))"
   ]
  },
  {
   "cell_type": "code",
   "execution_count": null,
   "id": "6e91d9ca",
   "metadata": {},
   "outputs": [],
   "source": []
  }
 ],
 "metadata": {
  "kernelspec": {
   "display_name": "Python 3 (ipykernel)",
   "language": "python",
   "name": "python3"
  },
  "language_info": {
   "codemirror_mode": {
    "name": "ipython",
    "version": 3
   },
   "file_extension": ".py",
   "mimetype": "text/x-python",
   "name": "python",
   "nbconvert_exporter": "python",
   "pygments_lexer": "ipython3",
   "version": "3.10.4"
  }
 },
 "nbformat": 4,
 "nbformat_minor": 5
}
