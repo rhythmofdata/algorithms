{
 "cells": [
  {
   "cell_type": "markdown",
   "id": "380639ee",
   "metadata": {},
   "source": [
    "#### This algorithm looks for the sole value in an array.  The other values in the array come in pairs.  If we use an already sorted array this algorithm has a runtime of $ O(n) $."
   ]
  },
  {
   "cell_type": "code",
   "execution_count": 53,
   "id": "3a88c108",
   "metadata": {},
   "outputs": [],
   "source": [
    "def singleLonely(sa):\n",
    "    print(sa)\n",
    "    if(sa[0] != sa[1]):\n",
    "        print(\"Our lonely number is \",sa[0])\n",
    "        return\n",
    "    itr = 0\n",
    "    while itr < len(sa):\n",
    "        if itr == len(sa)-1:                    # this line check to see if iter has reached last element\n",
    "            print(\"Lonely number is \",sa[itr])  # Last element in sorted array is the lonely number\n",
    "            return\n",
    "        if sa[itr] != sa[itr+1]:\n",
    "            print(\"Our  lonely number is \",sa[itr])\n",
    "            return\n",
    "        if itr == len(sa):\n",
    "            print(sa[itr], \" is our number.\")\n",
    "            return\n",
    "        itr +=2\n",
    "        \n",
    "        \n",
    "        \n",
    "        "
   ]
  },
  {
   "cell_type": "code",
   "execution_count": 55,
   "id": "bd96a5a0",
   "metadata": {},
   "outputs": [
    {
     "name": "stdout",
     "output_type": "stream",
     "text": [
      "[1, 1, 3, 3, 5, 5, 6, 6, 7, 7, 12, 12, 15, 15, 19, 19, 44, 44, 55, 55, 88, 88, 90, 90, 91, 91, 1000000]\n",
      "Lonely number is  1000000\n"
     ]
    }
   ],
   "source": [
    "sa = sorted([44,12,3,90,6,19,5,12,88,55,91,5,1,7,44,55,1,3,15,91,6,88,15,7,90,19,1000000])\n",
    "singleLonely(sa)"
   ]
  },
  {
   "cell_type": "code",
   "execution_count": 59,
   "id": "f2705623",
   "metadata": {},
   "outputs": [
    {
     "name": "stdout",
     "output_type": "stream",
     "text": [
      "[1, 1, 3, 3, 5, 5, 6, 6, 7, 7, 12, 12, 15, 15, 19, 19, 44, 44, 55, 55, 75, 88, 88, 90, 90, 91, 91, 1000000, 1000000]\n",
      "Our  lonely number is  75\n"
     ]
    }
   ],
   "source": [
    "sa = sorted([5,44,12,3,90,6,19,75,12,88,55,1000000,91,5,1,7,44,55,1,3,15,91,6,88,15,7,90,19,1000000])\n",
    "singleLonely(sa)"
   ]
  },
  {
   "cell_type": "code",
   "execution_count": null,
   "id": "df54345b",
   "metadata": {},
   "outputs": [],
   "source": []
  }
 ],
 "metadata": {
  "kernelspec": {
   "display_name": "Python 3 (ipykernel)",
   "language": "python",
   "name": "python3"
  },
  "language_info": {
   "codemirror_mode": {
    "name": "ipython",
    "version": 3
   },
   "file_extension": ".py",
   "mimetype": "text/x-python",
   "name": "python",
   "nbconvert_exporter": "python",
   "pygments_lexer": "ipython3",
   "version": "3.10.4"
  }
 },
 "nbformat": 4,
 "nbformat_minor": 5
}
