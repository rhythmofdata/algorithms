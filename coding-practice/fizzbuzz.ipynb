{
 "cells": [
  {
   "cell_type": "markdown",
   "id": "c6c4a424",
   "metadata": {},
   "source": [
    "### This fizzbuzz algorithm has a time complexity of O(n) with space complexity of O(1)"
   ]
  },
  {
   "cell_type": "code",
   "execution_count": 12,
   "id": "1276a46a",
   "metadata": {},
   "outputs": [],
   "source": [
    "def fizzbuzz(n):\n",
    "    if n >=0 and n <=1000:\n",
    "        for i in range(1,n+1):\n",
    "            if (i % 3 == 0) and (i % 5 == 0):\n",
    "                print('fizzbuzz')\n",
    "            elif i % 3 == 0:\n",
    "                print('fizz')\n",
    "            elif i % 5 == 0:\n",
    "                print('buzz')\n",
    "            else:\n",
    "                print(i)"
   ]
  },
  {
   "cell_type": "code",
   "execution_count": 13,
   "id": "13c9db87",
   "metadata": {},
   "outputs": [
    {
     "name": "stdout",
     "output_type": "stream",
     "text": [
      "1\n",
      "2\n",
      "fizz\n",
      "4\n",
      "buzz\n",
      "fizz\n",
      "7\n",
      "8\n",
      "fizz\n",
      "buzz\n",
      "11\n",
      "fizz\n",
      "13\n",
      "14\n",
      "fizzbuzz\n",
      "16\n",
      "17\n",
      "fizz\n",
      "19\n",
      "buzz\n",
      "fizz\n",
      "22\n",
      "23\n",
      "fizz\n",
      "buzz\n",
      "26\n",
      "fizz\n",
      "28\n",
      "29\n",
      "fizzbuzz\n"
     ]
    }
   ],
   "source": [
    "fizzbuzz(30)"
   ]
  },
  {
   "cell_type": "code",
   "execution_count": null,
   "id": "137bd547",
   "metadata": {},
   "outputs": [],
   "source": []
  }
 ],
 "metadata": {
  "kernelspec": {
   "display_name": "Python 3 (ipykernel)",
   "language": "python",
   "name": "python3"
  },
  "language_info": {
   "codemirror_mode": {
    "name": "ipython",
    "version": 3
   },
   "file_extension": ".py",
   "mimetype": "text/x-python",
   "name": "python",
   "nbconvert_exporter": "python",
   "pygments_lexer": "ipython3",
   "version": "3.10.4"
  }
 },
 "nbformat": 4,
 "nbformat_minor": 5
}
