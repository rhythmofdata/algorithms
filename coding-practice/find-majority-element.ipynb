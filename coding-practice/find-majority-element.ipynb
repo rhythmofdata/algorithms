{
 "cells": [
  {
   "cell_type": "markdown",
   "id": "df8c4078",
   "metadata": {},
   "source": [
    "# Find the Majority Element in the List"
   ]
  },
  {
   "cell_type": "markdown",
   "id": "39e82904",
   "metadata": {},
   "source": [
    "At line number 9 we subtract 1 because index n and the nth position aren't always the same thing.  For example take the array  nums =[2,2,3,4].   The length of nums is 4 so 4//2 = 2.  Index 2 would yield the value 3 in the array, but position 2 in the array would yield 2.  So we have to be careful.  If we don't subtract 1 from maxPoint, the value 3 would end up getting the vote for majority element.  This is the case for the Python language and other languages where indexing begins at zero."
   ]
  },
  {
   "cell_type": "code",
   "execution_count": 26,
   "id": "eb6e3326",
   "metadata": {},
   "outputs": [],
   "source": [
    "def findMajority(numlist):\n",
    "    size = len(numlist)\n",
    "    if size == 0:\n",
    "        print('List is too small')\n",
    "        return\n",
    "    else:\n",
    "        sortedList = sorted(numlist)\n",
    "        maxPoint = (size // 2)  \n",
    "        candidate = sortedList[maxPoint-1] #subtracting 1 since list index starts at zero.\n",
    "        if sortedList[maxPoint-1] == candidate or sortedList[maxPoint+1] == candidate:\n",
    "            print(candidate,' is the majority element.')\n",
    "        else:\n",
    "            print('There is no majority element!')\n",
    "            return"
   ]
  },
  {
   "cell_type": "code",
   "execution_count": 27,
   "id": "6da35bec",
   "metadata": {},
   "outputs": [
    {
     "name": "stdout",
     "output_type": "stream",
     "text": [
      "5  is the majority element.\n"
     ]
    }
   ],
   "source": [
    "numlist = [5,5,5,1,4,7,8,2,9,3,10,6,6]\n",
    "findMajority(numlist)"
   ]
  },
  {
   "cell_type": "code",
   "execution_count": 28,
   "id": "f176b6e0",
   "metadata": {},
   "outputs": [
    {
     "name": "stdout",
     "output_type": "stream",
     "text": [
      "2  is the majority element.\n"
     ]
    }
   ],
   "source": [
    "numlist2 = [3,4,2,2]\n",
    "findMajority(numlist2)"
   ]
  },
  {
   "cell_type": "code",
   "execution_count": 29,
   "id": "f86c7e1c",
   "metadata": {},
   "outputs": [
    {
     "name": "stdout",
     "output_type": "stream",
     "text": [
      "2  is the majority element.\n"
     ]
    }
   ],
   "source": [
    "numlist3 = [3,4,4,2,2,2]\n",
    "findMajority(numlist3)"
   ]
  },
  {
   "cell_type": "code",
   "execution_count": null,
   "id": "e503bebb",
   "metadata": {},
   "outputs": [],
   "source": []
  },
  {
   "cell_type": "code",
   "execution_count": null,
   "id": "e98eed8d",
   "metadata": {},
   "outputs": [],
   "source": []
  }
 ],
 "metadata": {
  "kernelspec": {
   "display_name": "Python 3 (ipykernel)",
   "language": "python",
   "name": "python3"
  },
  "language_info": {
   "codemirror_mode": {
    "name": "ipython",
    "version": 3
   },
   "file_extension": ".py",
   "mimetype": "text/x-python",
   "name": "python",
   "nbconvert_exporter": "python",
   "pygments_lexer": "ipython3",
   "version": "3.10.4"
  }
 },
 "nbformat": 4,
 "nbformat_minor": 5
}
