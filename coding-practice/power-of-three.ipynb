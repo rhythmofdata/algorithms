{
 "cells": [
  {
   "cell_type": "markdown",
   "id": "fad81b19",
   "metadata": {},
   "source": [
    "# Power of Three\n",
    "\n",
    "This is a recursive algorithm that calculates whether or not an integer is a power of three. The algorithm runs in $ O(logn) $ time."
   ]
  },
  {
   "cell_type": "code",
   "execution_count": 37,
   "id": "42bf32de",
   "metadata": {},
   "outputs": [],
   "source": [
    "def powerOfThree(n):\n",
    "    if n == 1:            # We need a base case so that we can break out of the recursion\n",
    "        print(\"yes\")\n",
    "        return\n",
    "        \n",
    "    if not n > 1 or not n <= 2147483646:   #This is the range of integers that can be input.\n",
    "        print(\"What are you trying to do here?  The value n must be greater than or equal to 1 \")\n",
    "        return\n",
    "    remainder = n % 3      #  This line calculates the remainder.\n",
    "    if remainder == 0:     #This line tells us if the remainder of the division is zero.\n",
    "        quotient = n/3\n",
    "        if quotient == 1:  #if the quotient =1 , then we have a power of three.\n",
    "            print(\"yes\")\n",
    "            return\n",
    "        powerOfThree(quotient)  #This is recursive call on the next quotient to see if it is divisible by three.\n",
    "    else:\n",
    "        print(\"no\")\n",
    "        return\n",
    "    "
   ]
  },
  {
   "cell_type": "code",
   "execution_count": 38,
   "id": "b91cd87e",
   "metadata": {},
   "outputs": [
    {
     "name": "stdout",
     "output_type": "stream",
     "text": [
      "What are you trying to do here?  The value n must be greater than or equal to 1 \n"
     ]
    }
   ],
   "source": [
    "powerOfThree(43046721*43046721)"
   ]
  },
  {
   "cell_type": "code",
   "execution_count": 39,
   "id": "9663fafe",
   "metadata": {},
   "outputs": [
    {
     "name": "stdout",
     "output_type": "stream",
     "text": [
      "no\n"
     ]
    }
   ],
   "source": [
    "powerOfThree(8)"
   ]
  },
  {
   "cell_type": "code",
   "execution_count": 40,
   "id": "d401e24b",
   "metadata": {},
   "outputs": [
    {
     "name": "stdout",
     "output_type": "stream",
     "text": [
      "yes\n"
     ]
    }
   ],
   "source": [
    "powerOfThree(9)"
   ]
  },
  {
   "cell_type": "code",
   "execution_count": 41,
   "id": "c58aa884",
   "metadata": {},
   "outputs": [
    {
     "name": "stdout",
     "output_type": "stream",
     "text": [
      "no\n"
     ]
    }
   ],
   "source": [
    "powerOfThree(6)"
   ]
  },
  {
   "cell_type": "code",
   "execution_count": 42,
   "id": "267440c1",
   "metadata": {},
   "outputs": [
    {
     "name": "stdout",
     "output_type": "stream",
     "text": [
      "yes\n"
     ]
    }
   ],
   "source": [
    "powerOfThree(3)"
   ]
  },
  {
   "cell_type": "code",
   "execution_count": 43,
   "id": "70384d09",
   "metadata": {},
   "outputs": [
    {
     "name": "stdout",
     "output_type": "stream",
     "text": [
      "What are you trying to do here?  The value n must be greater than or equal to 1 \n"
     ]
    }
   ],
   "source": [
    "powerOfThree(-1)"
   ]
  },
  {
   "cell_type": "code",
   "execution_count": 44,
   "id": "3d01af08",
   "metadata": {},
   "outputs": [
    {
     "name": "stdout",
     "output_type": "stream",
     "text": [
      "What are you trying to do here?  The value n must be greater than or equal to 1 \n"
     ]
    }
   ],
   "source": [
    "powerOfThree(0)"
   ]
  },
  {
   "cell_type": "code",
   "execution_count": 47,
   "id": "f5299003",
   "metadata": {},
   "outputs": [
    {
     "name": "stdout",
     "output_type": "stream",
     "text": [
      "no\n"
     ]
    }
   ],
   "source": [
    "powerOfThree(2147483646)"
   ]
  },
  {
   "cell_type": "code",
   "execution_count": 48,
   "id": "685c1765",
   "metadata": {},
   "outputs": [
    {
     "name": "stdout",
     "output_type": "stream",
     "text": [
      "yes\n"
     ]
    }
   ],
   "source": [
    "powerOfThree(1)"
   ]
  },
  {
   "cell_type": "code",
   "execution_count": null,
   "id": "83b0b18b",
   "metadata": {},
   "outputs": [],
   "source": []
  }
 ],
 "metadata": {
  "kernelspec": {
   "display_name": "Python 3 (ipykernel)",
   "language": "python",
   "name": "python3"
  },
  "language_info": {
   "codemirror_mode": {
    "name": "ipython",
    "version": 3
   },
   "file_extension": ".py",
   "mimetype": "text/x-python",
   "name": "python",
   "nbconvert_exporter": "python",
   "pygments_lexer": "ipython3",
   "version": "3.10.4"
  }
 },
 "nbformat": 4,
 "nbformat_minor": 5
}
