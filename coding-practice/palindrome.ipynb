{
 "cells": [
  {
   "cell_type": "markdown",
   "id": "e5d3a3cb",
   "metadata": {},
   "source": [
    "#### Wikipedia defines a palindrome as a word, number, phrase, or other sequence of characters which reads the same backward as forward, such as madam or racecar."
   ]
  },
  {
   "cell_type": "code",
   "execution_count": null,
   "id": "8c5ae6bc",
   "metadata": {},
   "outputs": [],
   "source": []
  },
  {
   "cell_type": "markdown",
   "id": "32550ffa",
   "metadata": {},
   "source": [
    "#### Use a reverse function to reverse a string, after which that reversed string will be compared to the original string.  If the original string matches its reverse, then we have a palindrome."
   ]
  },
  {
   "cell_type": "code",
   "execution_count": 43,
   "id": "081be7db",
   "metadata": {},
   "outputs": [],
   "source": [
    "def reverse_(some_string):\n",
    "    if some_string == None:\n",
    "        print(\"No string detected.\")\n",
    "    elif type(some_string) == str:\n",
    "        \n",
    "        string_len = len(some_string)\n",
    "        indexer = string_len - 1\n",
    "        new_string = \"\"\n",
    "        for i in range(0,string_len):\n",
    "            #new_string.append(some_string[indexer-i])\n",
    "            new_string += some_string[indexer-i]\n",
    "        return (new_string)\n",
    "    else:\n",
    "        print(\"You must enter a string\")\n",
    "        #exit()"
   ]
  },
  {
   "cell_type": "code",
   "execution_count": 44,
   "id": "c6badf08",
   "metadata": {},
   "outputs": [],
   "source": [
    "def palindrome_(string):\n",
    "    \n",
    "    stringRev = reverse_(string)\n",
    "    if stringRev.replace(\" \",\"\") == string.replace(\" \",\"\"):  # remove white spaces\n",
    "        print(\"we have a palindrome.\")\n",
    "        print(stringRev, ' = ', string)\n",
    "        return\n",
    "    else:\n",
    "        print('\"',string,'\"', ' is not a palindrome!')"
   ]
  },
  {
   "cell_type": "code",
   "execution_count": 45,
   "id": "fb0a0689",
   "metadata": {},
   "outputs": [
    {
     "name": "stdout",
     "output_type": "stream",
     "text": [
      "\" Skyline High School \"  is not a palindrome!\n"
     ]
    }
   ],
   "source": [
    "string_ = \"Skyline High School\"\n",
    "\n",
    "palindrome_(string_)"
   ]
  },
  {
   "cell_type": "code",
   "execution_count": 46,
   "id": "243176fb",
   "metadata": {},
   "outputs": [
    {
     "name": "stdout",
     "output_type": "stream",
     "text": [
      "we have a palindrome.\n",
      "rotator  =  rotator\n"
     ]
    }
   ],
   "source": [
    "string_ = \"rotator\"\n",
    "palindrome_(string_)"
   ]
  },
  {
   "cell_type": "markdown",
   "id": "dca174db",
   "metadata": {},
   "source": [
    "#### Ignoring the spaces here."
   ]
  },
  {
   "cell_type": "code",
   "execution_count": 47,
   "id": "02ef2b19",
   "metadata": {},
   "outputs": [
    {
     "name": "stdout",
     "output_type": "stream",
     "text": [
      "we have a palindrome.\n",
      "redrum si ris mur der  =  red rum sir is murder\n"
     ]
    }
   ],
   "source": [
    "string_ = 'red rum sir is murder'\n",
    "palindrome_(string_)"
   ]
  },
  {
   "cell_type": "code",
   "execution_count": null,
   "id": "eb839816",
   "metadata": {},
   "outputs": [],
   "source": []
  },
  {
   "cell_type": "code",
   "execution_count": null,
   "id": "df40ce95",
   "metadata": {},
   "outputs": [],
   "source": []
  }
 ],
 "metadata": {
  "kernelspec": {
   "display_name": "Python 3 (ipykernel)",
   "language": "python",
   "name": "python3"
  },
  "language_info": {
   "codemirror_mode": {
    "name": "ipython",
    "version": 3
   },
   "file_extension": ".py",
   "mimetype": "text/x-python",
   "name": "python",
   "nbconvert_exporter": "python",
   "pygments_lexer": "ipython3",
   "version": "3.10.4"
  }
 },
 "nbformat": 4,
 "nbformat_minor": 5
}
